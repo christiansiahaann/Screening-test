{
 "cells": [
  {
   "cell_type": "code",
   "execution_count": 1,
   "metadata": {},
   "outputs": [],
   "source": [
    "import pandas as pd\n",
    "import numpy as np\n",
    "import matplotlib.pyplot as plt\n",
    "import seaborn as sns"
   ]
  },
  {
   "cell_type": "code",
   "execution_count": 135,
   "metadata": {},
   "outputs": [
    {
     "data": {
      "text/html": [
       "<div>\n",
       "<style scoped>\n",
       "    .dataframe tbody tr th:only-of-type {\n",
       "        vertical-align: middle;\n",
       "    }\n",
       "\n",
       "    .dataframe tbody tr th {\n",
       "        vertical-align: top;\n",
       "    }\n",
       "\n",
       "    .dataframe thead th {\n",
       "        text-align: right;\n",
       "    }\n",
       "</style>\n",
       "<table border=\"1\" class=\"dataframe\">\n",
       "  <thead>\n",
       "    <tr style=\"text-align: right;\">\n",
       "      <th></th>\n",
       "      <th>nama_sales</th>\n",
       "      <th>harga_asli</th>\n",
       "      <th>customer</th>\n",
       "      <th>tipe_produk</th>\n",
       "      <th>nama</th>\n",
       "      <th>domisili</th>\n",
       "      <th>usia</th>\n",
       "      <th>name</th>\n",
       "      <th>start_date</th>\n",
       "      <th>end_date</th>\n",
       "      <th>budget</th>\n",
       "    </tr>\n",
       "    <tr>\n",
       "      <th>tgl_transaksi</th>\n",
       "      <th></th>\n",
       "      <th></th>\n",
       "      <th></th>\n",
       "      <th></th>\n",
       "      <th></th>\n",
       "      <th></th>\n",
       "      <th></th>\n",
       "      <th></th>\n",
       "      <th></th>\n",
       "      <th></th>\n",
       "      <th></th>\n",
       "    </tr>\n",
       "  </thead>\n",
       "  <tbody>\n",
       "    <tr>\n",
       "      <th>2021-02-28</th>\n",
       "      <td>Octroy</td>\n",
       "      <td>Rp41,000.00</td>\n",
       "      <td>Ade</td>\n",
       "      <td>Produk A</td>\n",
       "      <td>Ade</td>\n",
       "      <td>Jawa Barat</td>\n",
       "      <td>42</td>\n",
       "      <td>Campaign 1</td>\n",
       "      <td>1/1/2021</td>\n",
       "      <td>31/1/2021</td>\n",
       "      <td>Rp10,000,000.00</td>\n",
       "    </tr>\n",
       "    <tr>\n",
       "      <th>2021-02-28</th>\n",
       "      <td>Octroy</td>\n",
       "      <td>Rp41,000.00</td>\n",
       "      <td>Ade</td>\n",
       "      <td>Produk A</td>\n",
       "      <td>Ade</td>\n",
       "      <td>Jawa Barat</td>\n",
       "      <td>42</td>\n",
       "      <td>Campaign 2</td>\n",
       "      <td>1/2/2021</td>\n",
       "      <td>28/2/2021</td>\n",
       "      <td>Rp14,000,000.00</td>\n",
       "    </tr>\n",
       "    <tr>\n",
       "      <th>2021-02-28</th>\n",
       "      <td>Octroy</td>\n",
       "      <td>Rp41,000.00</td>\n",
       "      <td>Ade</td>\n",
       "      <td>Produk A</td>\n",
       "      <td>Ade</td>\n",
       "      <td>Jawa Barat</td>\n",
       "      <td>42</td>\n",
       "      <td>Campaign 3</td>\n",
       "      <td>1/3/2021</td>\n",
       "      <td>31/3/2021</td>\n",
       "      <td>Rp23,000,000.00</td>\n",
       "    </tr>\n",
       "    <tr>\n",
       "      <th>2021-02-28</th>\n",
       "      <td>Octroy</td>\n",
       "      <td>Rp41,000.00</td>\n",
       "      <td>Ade</td>\n",
       "      <td>Produk A</td>\n",
       "      <td>Ade</td>\n",
       "      <td>Jawa Barat</td>\n",
       "      <td>42</td>\n",
       "      <td>Campaign 4</td>\n",
       "      <td>1/4/2021</td>\n",
       "      <td>30/4/2021</td>\n",
       "      <td>Rp35,000,000.00</td>\n",
       "    </tr>\n",
       "    <tr>\n",
       "      <th>2021-02-28</th>\n",
       "      <td>Octroy</td>\n",
       "      <td>Rp41,000.00</td>\n",
       "      <td>Ade</td>\n",
       "      <td>Produk A</td>\n",
       "      <td>Ade</td>\n",
       "      <td>Jawa Barat</td>\n",
       "      <td>42</td>\n",
       "      <td>Campaign 5</td>\n",
       "      <td>1/5/2021</td>\n",
       "      <td>31/5/2021</td>\n",
       "      <td>Rp36,000,000.00</td>\n",
       "    </tr>\n",
       "  </tbody>\n",
       "</table>\n",
       "</div>"
      ],
      "text/plain": [
       "              nama_sales   harga_asli customer tipe_produk nama    domisili  \\\n",
       "tgl_transaksi                                                                 \n",
       "2021-02-28        Octroy  Rp41,000.00      Ade    Produk A  Ade  Jawa Barat   \n",
       "2021-02-28        Octroy  Rp41,000.00      Ade    Produk A  Ade  Jawa Barat   \n",
       "2021-02-28        Octroy  Rp41,000.00      Ade    Produk A  Ade  Jawa Barat   \n",
       "2021-02-28        Octroy  Rp41,000.00      Ade    Produk A  Ade  Jawa Barat   \n",
       "2021-02-28        Octroy  Rp41,000.00      Ade    Produk A  Ade  Jawa Barat   \n",
       "\n",
       "               usia        name start_date   end_date           budget  \n",
       "tgl_transaksi                                                           \n",
       "2021-02-28       42  Campaign 1   1/1/2021  31/1/2021  Rp10,000,000.00  \n",
       "2021-02-28       42  Campaign 2   1/2/2021  28/2/2021  Rp14,000,000.00  \n",
       "2021-02-28       42  Campaign 3   1/3/2021  31/3/2021  Rp23,000,000.00  \n",
       "2021-02-28       42  Campaign 4   1/4/2021  30/4/2021  Rp35,000,000.00  \n",
       "2021-02-28       42  Campaign 5   1/5/2021  31/5/2021  Rp36,000,000.00  "
      ]
     },
     "execution_count": 135,
     "metadata": {},
     "output_type": "execute_result"
    }
   ],
   "source": [
    "df = pd.read_csv('Transaksi.csv', index_col='tgl_transaksi')\n",
    "df.head()"
   ]
  },
  {
   "cell_type": "code",
   "execution_count": 137,
   "metadata": {},
   "outputs": [
    {
     "name": "stdout",
     "output_type": "stream",
     "text": [
      "<class 'pandas.core.frame.DataFrame'>\n",
      "DatetimeIndex: 2258 entries, 2021-02-28 to 2021-04-24\n",
      "Data columns (total 11 columns):\n",
      " #   Column       Non-Null Count  Dtype \n",
      "---  ------       --------------  ----- \n",
      " 0   nama_sales   2258 non-null   object\n",
      " 1   harga_asli   2170 non-null   object\n",
      " 2   customer     2258 non-null   object\n",
      " 3   tipe_produk  2258 non-null   object\n",
      " 4   nama         2258 non-null   object\n",
      " 5   domisili     2258 non-null   object\n",
      " 6   usia         2258 non-null   int64 \n",
      " 7   name         2258 non-null   object\n",
      " 8   start_date   2258 non-null   object\n",
      " 9   end_date     2258 non-null   object\n",
      " 10  budget       2258 non-null   object\n",
      "dtypes: int64(1), object(10)\n",
      "memory usage: 211.7+ KB\n"
     ]
    }
   ],
   "source": [
    "df.info()"
   ]
  },
  {
   "cell_type": "code",
   "execution_count": 136,
   "metadata": {},
   "outputs": [
    {
     "data": {
      "text/plain": [
       "(2258, 11)"
      ]
     },
     "execution_count": 136,
     "metadata": {},
     "output_type": "execute_result"
    }
   ],
   "source": [
    "# menampilkan jumlah kolom dan baris\n",
    "df.shape"
   ]
  },
  {
   "cell_type": "code",
   "execution_count": 138,
   "metadata": {},
   "outputs": [
    {
     "data": {
      "text/plain": [
       "nama_sales      0\n",
       "harga_asli     88\n",
       "customer        0\n",
       "tipe_produk     0\n",
       "nama            0\n",
       "domisili        0\n",
       "usia            0\n",
       "name            0\n",
       "start_date      0\n",
       "end_date        0\n",
       "budget          0\n",
       "dtype: int64"
      ]
     },
     "execution_count": 138,
     "metadata": {},
     "output_type": "execute_result"
    }
   ],
   "source": [
    "df.isnull().sum()"
   ]
  },
  {
   "cell_type": "markdown",
   "metadata": {},
   "source": [
    "## Data Cleaning\n",
    "Menghapus null value dan nama kolom yang belum sesuai seperti kolom name, start_date, end_date, budget"
   ]
  },
  {
   "cell_type": "code",
   "execution_count": 139,
   "metadata": {},
   "outputs": [
    {
     "data": {
      "text/plain": [
       "Produk E    378\n",
       "Produk D    362\n",
       "Produk B    332\n",
       "Produk F    316\n",
       "Produk G    314\n",
       "Produk C    286\n",
       "Produk A    270\n",
       "Name: tipe_produk, dtype: int64"
      ]
     },
     "execution_count": 139,
     "metadata": {},
     "output_type": "execute_result"
    }
   ],
   "source": [
    "# jumlah transaksi setiap tipe produk\n",
    "df.tipe_produk.value_counts()"
   ]
  },
  {
   "cell_type": "code",
   "execution_count": 140,
   "metadata": {},
   "outputs": [
    {
     "data": {
      "text/html": [
       "<div>\n",
       "<style scoped>\n",
       "    .dataframe tbody tr th:only-of-type {\n",
       "        vertical-align: middle;\n",
       "    }\n",
       "\n",
       "    .dataframe tbody tr th {\n",
       "        vertical-align: top;\n",
       "    }\n",
       "\n",
       "    .dataframe thead th {\n",
       "        text-align: right;\n",
       "    }\n",
       "</style>\n",
       "<table border=\"1\" class=\"dataframe\">\n",
       "  <thead>\n",
       "    <tr style=\"text-align: right;\">\n",
       "      <th></th>\n",
       "      <th>nama_sales</th>\n",
       "      <th>harga_asli</th>\n",
       "      <th>customer</th>\n",
       "      <th>tipe_produk</th>\n",
       "      <th>nama</th>\n",
       "      <th>domisili</th>\n",
       "      <th>usia</th>\n",
       "      <th>name</th>\n",
       "      <th>start_date</th>\n",
       "      <th>end_date</th>\n",
       "      <th>budget</th>\n",
       "    </tr>\n",
       "    <tr>\n",
       "      <th>tgl_transaksi</th>\n",
       "      <th></th>\n",
       "      <th></th>\n",
       "      <th></th>\n",
       "      <th></th>\n",
       "      <th></th>\n",
       "      <th></th>\n",
       "      <th></th>\n",
       "      <th></th>\n",
       "      <th></th>\n",
       "      <th></th>\n",
       "      <th></th>\n",
       "    </tr>\n",
       "  </thead>\n",
       "  <tbody>\n",
       "    <tr>\n",
       "      <th>2021-02-28</th>\n",
       "      <td>Octroy</td>\n",
       "      <td>Rp41,000.00</td>\n",
       "      <td>Ade</td>\n",
       "      <td>Produk A</td>\n",
       "      <td>Ade</td>\n",
       "      <td>Jawa Barat</td>\n",
       "      <td>42</td>\n",
       "      <td>Campaign 1</td>\n",
       "      <td>1/1/2021</td>\n",
       "      <td>31/1/2021</td>\n",
       "      <td>Rp10,000,000.00</td>\n",
       "    </tr>\n",
       "    <tr>\n",
       "      <th>2021-02-28</th>\n",
       "      <td>Octroy</td>\n",
       "      <td>Rp41,000.00</td>\n",
       "      <td>Ade</td>\n",
       "      <td>Produk A</td>\n",
       "      <td>Ade</td>\n",
       "      <td>Jawa Barat</td>\n",
       "      <td>42</td>\n",
       "      <td>Campaign 2</td>\n",
       "      <td>1/2/2021</td>\n",
       "      <td>28/2/2021</td>\n",
       "      <td>Rp14,000,000.00</td>\n",
       "    </tr>\n",
       "    <tr>\n",
       "      <th>2021-02-28</th>\n",
       "      <td>Octroy</td>\n",
       "      <td>Rp41,000.00</td>\n",
       "      <td>Ade</td>\n",
       "      <td>Produk A</td>\n",
       "      <td>Ade</td>\n",
       "      <td>Jawa Barat</td>\n",
       "      <td>42</td>\n",
       "      <td>Campaign 3</td>\n",
       "      <td>1/3/2021</td>\n",
       "      <td>31/3/2021</td>\n",
       "      <td>Rp23,000,000.00</td>\n",
       "    </tr>\n",
       "    <tr>\n",
       "      <th>2021-02-28</th>\n",
       "      <td>Octroy</td>\n",
       "      <td>Rp41,000.00</td>\n",
       "      <td>Ade</td>\n",
       "      <td>Produk A</td>\n",
       "      <td>Ade</td>\n",
       "      <td>Jawa Barat</td>\n",
       "      <td>42</td>\n",
       "      <td>Campaign 4</td>\n",
       "      <td>1/4/2021</td>\n",
       "      <td>30/4/2021</td>\n",
       "      <td>Rp35,000,000.00</td>\n",
       "    </tr>\n",
       "    <tr>\n",
       "      <th>2021-02-28</th>\n",
       "      <td>Octroy</td>\n",
       "      <td>Rp41,000.00</td>\n",
       "      <td>Ade</td>\n",
       "      <td>Produk A</td>\n",
       "      <td>Ade</td>\n",
       "      <td>Jawa Barat</td>\n",
       "      <td>42</td>\n",
       "      <td>Campaign 5</td>\n",
       "      <td>1/5/2021</td>\n",
       "      <td>31/5/2021</td>\n",
       "      <td>Rp36,000,000.00</td>\n",
       "    </tr>\n",
       "    <tr>\n",
       "      <th>...</th>\n",
       "      <td>...</td>\n",
       "      <td>...</td>\n",
       "      <td>...</td>\n",
       "      <td>...</td>\n",
       "      <td>...</td>\n",
       "      <td>...</td>\n",
       "      <td>...</td>\n",
       "      <td>...</td>\n",
       "      <td>...</td>\n",
       "      <td>...</td>\n",
       "      <td>...</td>\n",
       "    </tr>\n",
       "    <tr>\n",
       "      <th>2021-12-05</th>\n",
       "      <td>Agus</td>\n",
       "      <td>Rp6,499,000.00</td>\n",
       "      <td>Mygneo</td>\n",
       "      <td>Produk A</td>\n",
       "      <td>Mygneo</td>\n",
       "      <td>Luar Indonesia</td>\n",
       "      <td>34</td>\n",
       "      <td>Campaign 3</td>\n",
       "      <td>1/3/2021</td>\n",
       "      <td>31/3/2021</td>\n",
       "      <td>Rp23,000,000.00</td>\n",
       "    </tr>\n",
       "    <tr>\n",
       "      <th>2021-12-05</th>\n",
       "      <td>Agus</td>\n",
       "      <td>Rp6,499,000.00</td>\n",
       "      <td>Mygneo</td>\n",
       "      <td>Produk A</td>\n",
       "      <td>Mygneo</td>\n",
       "      <td>Luar Indonesia</td>\n",
       "      <td>34</td>\n",
       "      <td>Campaign 4</td>\n",
       "      <td>1/4/2021</td>\n",
       "      <td>30/4/2021</td>\n",
       "      <td>Rp35,000,000.00</td>\n",
       "    </tr>\n",
       "    <tr>\n",
       "      <th>2021-12-05</th>\n",
       "      <td>Agus</td>\n",
       "      <td>Rp6,499,000.00</td>\n",
       "      <td>Mygneo</td>\n",
       "      <td>Produk A</td>\n",
       "      <td>Mygneo</td>\n",
       "      <td>Luar Indonesia</td>\n",
       "      <td>34</td>\n",
       "      <td>Campaign 5</td>\n",
       "      <td>1/5/2021</td>\n",
       "      <td>31/5/2021</td>\n",
       "      <td>Rp36,000,000.00</td>\n",
       "    </tr>\n",
       "    <tr>\n",
       "      <th>2021-12-05</th>\n",
       "      <td>Agus</td>\n",
       "      <td>Rp6,499,000.00</td>\n",
       "      <td>Mygneo</td>\n",
       "      <td>Produk A</td>\n",
       "      <td>Mygneo</td>\n",
       "      <td>Luar Indonesia</td>\n",
       "      <td>34</td>\n",
       "      <td>Campaign 6</td>\n",
       "      <td>1/6/2021</td>\n",
       "      <td>30/6/2021</td>\n",
       "      <td>Rp30,000,000.00</td>\n",
       "    </tr>\n",
       "    <tr>\n",
       "      <th>2021-12-05</th>\n",
       "      <td>Agus</td>\n",
       "      <td>Rp6,499,000.00</td>\n",
       "      <td>Mygneo</td>\n",
       "      <td>Produk A</td>\n",
       "      <td>Mygneo</td>\n",
       "      <td>Luar Indonesia</td>\n",
       "      <td>34</td>\n",
       "      <td>Campaign 7</td>\n",
       "      <td>1/7/2021</td>\n",
       "      <td>31/7/2021</td>\n",
       "      <td>Rp37,000,000.00</td>\n",
       "    </tr>\n",
       "  </tbody>\n",
       "</table>\n",
       "<p>270 rows × 11 columns</p>\n",
       "</div>"
      ],
      "text/plain": [
       "              nama_sales      harga_asli customer tipe_produk    nama  \\\n",
       "tgl_transaksi                                                           \n",
       "2021-02-28        Octroy     Rp41,000.00      Ade    Produk A     Ade   \n",
       "2021-02-28        Octroy     Rp41,000.00      Ade    Produk A     Ade   \n",
       "2021-02-28        Octroy     Rp41,000.00      Ade    Produk A     Ade   \n",
       "2021-02-28        Octroy     Rp41,000.00      Ade    Produk A     Ade   \n",
       "2021-02-28        Octroy     Rp41,000.00      Ade    Produk A     Ade   \n",
       "...                  ...             ...      ...         ...     ...   \n",
       "2021-12-05          Agus  Rp6,499,000.00   Mygneo    Produk A  Mygneo   \n",
       "2021-12-05          Agus  Rp6,499,000.00   Mygneo    Produk A  Mygneo   \n",
       "2021-12-05          Agus  Rp6,499,000.00   Mygneo    Produk A  Mygneo   \n",
       "2021-12-05          Agus  Rp6,499,000.00   Mygneo    Produk A  Mygneo   \n",
       "2021-12-05          Agus  Rp6,499,000.00   Mygneo    Produk A  Mygneo   \n",
       "\n",
       "                     domisili  usia        name start_date   end_date  \\\n",
       "tgl_transaksi                                                           \n",
       "2021-02-28         Jawa Barat    42  Campaign 1   1/1/2021  31/1/2021   \n",
       "2021-02-28         Jawa Barat    42  Campaign 2   1/2/2021  28/2/2021   \n",
       "2021-02-28         Jawa Barat    42  Campaign 3   1/3/2021  31/3/2021   \n",
       "2021-02-28         Jawa Barat    42  Campaign 4   1/4/2021  30/4/2021   \n",
       "2021-02-28         Jawa Barat    42  Campaign 5   1/5/2021  31/5/2021   \n",
       "...                       ...   ...         ...        ...        ...   \n",
       "2021-12-05     Luar Indonesia    34  Campaign 3   1/3/2021  31/3/2021   \n",
       "2021-12-05     Luar Indonesia    34  Campaign 4   1/4/2021  30/4/2021   \n",
       "2021-12-05     Luar Indonesia    34  Campaign 5   1/5/2021  31/5/2021   \n",
       "2021-12-05     Luar Indonesia    34  Campaign 6   1/6/2021  30/6/2021   \n",
       "2021-12-05     Luar Indonesia    34  Campaign 7   1/7/2021  31/7/2021   \n",
       "\n",
       "                        budget  \n",
       "tgl_transaksi                   \n",
       "2021-02-28     Rp10,000,000.00  \n",
       "2021-02-28     Rp14,000,000.00  \n",
       "2021-02-28     Rp23,000,000.00  \n",
       "2021-02-28     Rp35,000,000.00  \n",
       "2021-02-28     Rp36,000,000.00  \n",
       "...                        ...  \n",
       "2021-12-05     Rp23,000,000.00  \n",
       "2021-12-05     Rp35,000,000.00  \n",
       "2021-12-05     Rp36,000,000.00  \n",
       "2021-12-05     Rp30,000,000.00  \n",
       "2021-12-05     Rp37,000,000.00  \n",
       "\n",
       "[270 rows x 11 columns]"
      ]
     },
     "execution_count": 140,
     "metadata": {},
     "output_type": "execute_result"
    }
   ],
   "source": [
    "# sample produk A, apakah memiliki harga asli yang sama pada tiap transaksi \n",
    "df[df.tipe_produk == 'Produk A']"
   ]
  },
  {
   "cell_type": "markdown",
   "metadata": {},
   "source": [
    "Setelah dilakukan pengecekan, didapatkan bahwa setiap transaksi dengan tipe produk yang sama memiliki harga asli yang berbeda. Oleh karena itu null value pada harga_asli akan di drop"
   ]
  },
  {
   "cell_type": "code",
   "execution_count": 141,
   "metadata": {},
   "outputs": [],
   "source": [
    "df = df.dropna(subset=['harga_asli'])"
   ]
  },
  {
   "cell_type": "code",
   "execution_count": 142,
   "metadata": {},
   "outputs": [
    {
     "data": {
      "text/plain": [
       "nama_sales     0\n",
       "harga_asli     0\n",
       "customer       0\n",
       "tipe_produk    0\n",
       "nama           0\n",
       "domisili       0\n",
       "usia           0\n",
       "name           0\n",
       "start_date     0\n",
       "end_date       0\n",
       "budget         0\n",
       "dtype: int64"
      ]
     },
     "execution_count": 142,
     "metadata": {},
     "output_type": "execute_result"
    }
   ],
   "source": [
    "df.isnull().sum()"
   ]
  },
  {
   "cell_type": "code",
   "execution_count": 143,
   "metadata": {},
   "outputs": [],
   "source": [
    "# mengubah tipe data kolom hasil_asli dari objek menjadi float\n",
    "df.harga_asli = df.harga_asli.str.replace('Rp', '')\n",
    "df.harga_asli = df.harga_asli.str.replace(',', '')\n",
    "df.harga_asli = df.harga_asli.astype(float)"
   ]
  },
  {
   "cell_type": "markdown",
   "metadata": {},
   "source": [
    "kolom name, start_date, end_date, budget belum sesuai. Untuk sementara di drop"
   ]
  },
  {
   "cell_type": "code",
   "execution_count": 144,
   "metadata": {},
   "outputs": [],
   "source": [
    "# delete kolom name, start_date, end_date, budget\n",
    "df.drop(columns=['name','start_date','end_date','budget'], inplace=True)"
   ]
  },
  {
   "cell_type": "markdown",
   "metadata": {},
   "source": [
    "## EXPLORATORY DATA ANALYSIS"
   ]
  },
  {
   "cell_type": "code",
   "execution_count": 145,
   "metadata": {},
   "outputs": [],
   "source": [
    "# mengubah index format datetime ke bulan\n",
    "df.index = df.index.month"
   ]
  },
  {
   "cell_type": "code",
   "execution_count": 150,
   "metadata": {},
   "outputs": [],
   "source": [
    "# sorting dari bulan 1 ke 12\n",
    "df.sort_values(by=['tgl_transaksi'], inplace=True)"
   ]
  },
  {
   "cell_type": "code",
   "execution_count": 164,
   "metadata": {},
   "outputs": [],
   "source": [
    "# table untuk total transaksi setiap bulan\n",
    "df_total_transaksi_bulan = df.index.value_counts()\n",
    "df_total_transaksi_bulan = pd.DataFrame(df_total_transaksi_bulan).sort_index(ascending=True)"
   ]
  },
  {
   "cell_type": "code",
   "execution_count": 170,
   "metadata": {},
   "outputs": [
    {
     "data": {
      "text/plain": [
       "Text(0.5, 0, 'bulan')"
      ]
     },
     "execution_count": 170,
     "metadata": {},
     "output_type": "execute_result"
    },
    {
     "data": {
      "image/png": "[encoded data removed]",
      "text/plain": [
       "<Figure size 720x432 with 1 Axes>"
      ]
     },
     "metadata": {
      "needs_background": "light"
     },
     "output_type": "display_data"
    }
   ],
   "source": [
    "# ukuran chart\n",
    "plt.figure(figsize=(10,6))\n",
    "\n",
    "# judul\n",
    "plt.title('Total Transaksi Setiap Bulan dari Bulan 1 ke 12')\n",
    "\n",
    "# total transaksi setiap bulan dalam bentuk bar chart\n",
    "sns.barplot(x=df_total_transaksi_bulan.index, y=df_total_transaksi_bulan.tgl_transaksi)\n",
    "\n",
    "# penamaan sumbu x dan y\n",
    "plt.ylabel('total_transaksi')\n",
    "plt.xlabel('bulan')"
   ]
  },
  {
   "cell_type": "code",
   "execution_count": 241,
   "metadata": {},
   "outputs": [
    {
     "data": {
      "text/plain": [
       "Text(0, 0.5, 'total_pendapatan')"
      ]
     },
     "execution_count": 241,
     "metadata": {},
     "output_type": "execute_result"
    },
    {
     "data": {
      "image/png": "[encoded data removed]",
      "text/plain": [
       "<Figure size 864x432 with 1 Axes>"
      ]
     },
     "metadata": {
      "needs_background": "light"
     },
     "output_type": "display_data"
    }
   ],
   "source": [
    "plt.figure(figsize=(12,6))\n",
    "\n",
    "# total pendapatan setiap bulannya\n",
    "df_total_pendapatan_bulan = pd.DataFrame(df.groupby(['tgl_transaksi'])['harga_asli'].sum())\n",
    "sns.lineplot(data=df_total_pendapatan_bulan)\n",
    "\n",
    "plt.title('Total Pendapatan Perusahaan Setiap Bulan di Tahun 2021')\n",
    "plt.xlabel('bulan')\n",
    "plt.ylabel('total_pendapatan')"
   ]
  },
  {
   "cell_type": "code",
   "execution_count": 191,
   "metadata": {},
   "outputs": [
    {
     "data": {
      "text/html": [
       "<div>\n",
       "<style scoped>\n",
       "    .dataframe tbody tr th:only-of-type {\n",
       "        vertical-align: middle;\n",
       "    }\n",
       "\n",
       "    .dataframe tbody tr th {\n",
       "        vertical-align: top;\n",
       "    }\n",
       "\n",
       "    .dataframe thead th {\n",
       "        text-align: right;\n",
       "    }\n",
       "</style>\n",
       "<table border=\"1\" class=\"dataframe\">\n",
       "  <thead>\n",
       "    <tr style=\"text-align: right;\">\n",
       "      <th></th>\n",
       "      <th>name</th>\n",
       "      <th>start_date</th>\n",
       "      <th>end_date</th>\n",
       "      <th>budget</th>\n",
       "    </tr>\n",
       "  </thead>\n",
       "  <tbody>\n",
       "    <tr>\n",
       "      <th>0</th>\n",
       "      <td>Campaign 1</td>\n",
       "      <td>1/1/2021</td>\n",
       "      <td>31/1/2021</td>\n",
       "      <td>Rp10,000,000.00</td>\n",
       "    </tr>\n",
       "    <tr>\n",
       "      <th>1</th>\n",
       "      <td>Campaign 2</td>\n",
       "      <td>1/2/2021</td>\n",
       "      <td>28/2/2021</td>\n",
       "      <td>Rp14,000,000.00</td>\n",
       "    </tr>\n",
       "    <tr>\n",
       "      <th>2</th>\n",
       "      <td>Campaign 3</td>\n",
       "      <td>1/3/2021</td>\n",
       "      <td>31/3/2021</td>\n",
       "      <td>Rp23,000,000.00</td>\n",
       "    </tr>\n",
       "    <tr>\n",
       "      <th>3</th>\n",
       "      <td>Campaign 4</td>\n",
       "      <td>1/4/2021</td>\n",
       "      <td>30/4/2021</td>\n",
       "      <td>Rp35,000,000.00</td>\n",
       "    </tr>\n",
       "    <tr>\n",
       "      <th>4</th>\n",
       "      <td>Campaign 5</td>\n",
       "      <td>1/5/2021</td>\n",
       "      <td>31/5/2021</td>\n",
       "      <td>Rp36,000,000.00</td>\n",
       "    </tr>\n",
       "    <tr>\n",
       "      <th>5</th>\n",
       "      <td>Campaign 6</td>\n",
       "      <td>1/6/2021</td>\n",
       "      <td>30/6/2021</td>\n",
       "      <td>Rp30,000,000.00</td>\n",
       "    </tr>\n",
       "    <tr>\n",
       "      <th>6</th>\n",
       "      <td>Campaign 7</td>\n",
       "      <td>1/7/2021</td>\n",
       "      <td>31/7/2021</td>\n",
       "      <td>Rp37,000,000.00</td>\n",
       "    </tr>\n",
       "  </tbody>\n",
       "</table>\n",
       "</div>"
      ],
      "text/plain": [
       "         name start_date   end_date           budget\n",
       "0  Campaign 1   1/1/2021  31/1/2021  Rp10,000,000.00\n",
       "1  Campaign 2   1/2/2021  28/2/2021  Rp14,000,000.00\n",
       "2  Campaign 3   1/3/2021  31/3/2021  Rp23,000,000.00\n",
       "3  Campaign 4   1/4/2021  30/4/2021  Rp35,000,000.00\n",
       "4  Campaign 5   1/5/2021  31/5/2021  Rp36,000,000.00\n",
       "5  Campaign 6   1/6/2021  30/6/2021  Rp30,000,000.00\n",
       "6  Campaign 7   1/7/2021  31/7/2021  Rp37,000,000.00"
      ]
     },
     "execution_count": 191,
     "metadata": {},
     "output_type": "execute_result"
    }
   ],
   "source": [
    "# input table campaign\n",
    "df_campaign = pd.read_csv('campaign.csv')\n",
    "df_campaign"
   ]
  },
  {
   "cell_type": "code",
   "execution_count": 206,
   "metadata": {},
   "outputs": [
    {
     "data": {
      "text/html": [
       "<div>\n",
       "<style scoped>\n",
       "    .dataframe tbody tr th:only-of-type {\n",
       "        vertical-align: middle;\n",
       "    }\n",
       "\n",
       "    .dataframe tbody tr th {\n",
       "        vertical-align: top;\n",
       "    }\n",
       "\n",
       "    .dataframe thead th {\n",
       "        text-align: right;\n",
       "    }\n",
       "</style>\n",
       "<table border=\"1\" class=\"dataframe\">\n",
       "  <thead>\n",
       "    <tr style=\"text-align: right;\">\n",
       "      <th></th>\n",
       "      <th>name</th>\n",
       "      <th>start_date</th>\n",
       "      <th>end_date</th>\n",
       "      <th>budget</th>\n",
       "    </tr>\n",
       "  </thead>\n",
       "  <tbody>\n",
       "    <tr>\n",
       "      <th>0</th>\n",
       "      <td>Campaign 1</td>\n",
       "      <td>1/1/2021</td>\n",
       "      <td>2021-01-31</td>\n",
       "      <td>Rp10,000,000.00</td>\n",
       "    </tr>\n",
       "    <tr>\n",
       "      <th>1</th>\n",
       "      <td>Campaign 2</td>\n",
       "      <td>1/2/2021</td>\n",
       "      <td>2021-02-28</td>\n",
       "      <td>Rp14,000,000.00</td>\n",
       "    </tr>\n",
       "    <tr>\n",
       "      <th>2</th>\n",
       "      <td>Campaign 3</td>\n",
       "      <td>1/3/2021</td>\n",
       "      <td>2021-03-31</td>\n",
       "      <td>Rp23,000,000.00</td>\n",
       "    </tr>\n",
       "    <tr>\n",
       "      <th>3</th>\n",
       "      <td>Campaign 4</td>\n",
       "      <td>1/4/2021</td>\n",
       "      <td>2021-04-30</td>\n",
       "      <td>Rp35,000,000.00</td>\n",
       "    </tr>\n",
       "    <tr>\n",
       "      <th>4</th>\n",
       "      <td>Campaign 5</td>\n",
       "      <td>1/5/2021</td>\n",
       "      <td>2021-05-31</td>\n",
       "      <td>Rp36,000,000.00</td>\n",
       "    </tr>\n",
       "    <tr>\n",
       "      <th>5</th>\n",
       "      <td>Campaign 6</td>\n",
       "      <td>1/6/2021</td>\n",
       "      <td>2021-06-30</td>\n",
       "      <td>Rp30,000,000.00</td>\n",
       "    </tr>\n",
       "    <tr>\n",
       "      <th>6</th>\n",
       "      <td>Campaign 7</td>\n",
       "      <td>1/7/2021</td>\n",
       "      <td>2021-07-31</td>\n",
       "      <td>Rp37,000,000.00</td>\n",
       "    </tr>\n",
       "  </tbody>\n",
       "</table>\n",
       "</div>"
      ],
      "text/plain": [
       "         name start_date   end_date           budget\n",
       "0  Campaign 1   1/1/2021 2021-01-31  Rp10,000,000.00\n",
       "1  Campaign 2   1/2/2021 2021-02-28  Rp14,000,000.00\n",
       "2  Campaign 3   1/3/2021 2021-03-31  Rp23,000,000.00\n",
       "3  Campaign 4   1/4/2021 2021-04-30  Rp35,000,000.00\n",
       "4  Campaign 5   1/5/2021 2021-05-31  Rp36,000,000.00\n",
       "5  Campaign 6   1/6/2021 2021-06-30  Rp30,000,000.00\n",
       "6  Campaign 7   1/7/2021 2021-07-31  Rp37,000,000.00"
      ]
     },
     "execution_count": 206,
     "metadata": {},
     "output_type": "execute_result"
    }
   ],
   "source": [
    "# mengubah tipe data kolom end_date dari object menjadi datetime\n",
    "df_campaign.end_date = pd.to_datetime(df_campaign.end_date)\n",
    "df_campaign"
   ]
  },
  {
   "cell_type": "code",
   "execution_count": 209,
   "metadata": {},
   "outputs": [],
   "source": [
    "# mengambil bulan dari kolom end_date\n",
    "# menghapus kolom start_date\n",
    "df_campaign.end_date = df_campaign.end_date.dt.month\n",
    "df_campaign.drop(columns=['start_date'], inplace=True)"
   ]
  },
  {
   "cell_type": "code",
   "execution_count": 212,
   "metadata": {},
   "outputs": [],
   "source": [
    "# mengubah tipe data kolom budget dari objek menjadi float\n",
    "df_campaign.budget = df_campaign.budget.str.replace('Rp', '')\n",
    "df_campaign.budget = df_campaign.budget.str.replace(',', '')\n",
    "df_campaign.budget = df_campaign.budget.astype(float)"
   ]
  },
  {
   "cell_type": "code",
   "execution_count": 222,
   "metadata": {},
   "outputs": [],
   "source": [
    "# mengubah nama kolom end_date menjadi tgl_transaksi\n",
    "df_campaign['tgl_transaksi'] = df_campaign.end_date\n",
    "df_campaign.drop(columns=['end_date'], inplace=True)"
   ]
  },
  {
   "cell_type": "code",
   "execution_count": 223,
   "metadata": {},
   "outputs": [
    {
     "data": {
      "text/html": [
       "<div>\n",
       "<style scoped>\n",
       "    .dataframe tbody tr th:only-of-type {\n",
       "        vertical-align: middle;\n",
       "    }\n",
       "\n",
       "    .dataframe tbody tr th {\n",
       "        vertical-align: top;\n",
       "    }\n",
       "\n",
       "    .dataframe thead th {\n",
       "        text-align: right;\n",
       "    }\n",
       "</style>\n",
       "<table border=\"1\" class=\"dataframe\">\n",
       "  <thead>\n",
       "    <tr style=\"text-align: right;\">\n",
       "      <th></th>\n",
       "      <th>name</th>\n",
       "      <th>budget</th>\n",
       "      <th>tgl_transaksi</th>\n",
       "    </tr>\n",
       "  </thead>\n",
       "  <tbody>\n",
       "    <tr>\n",
       "      <th>0</th>\n",
       "      <td>Campaign 1</td>\n",
       "      <td>10000000.0</td>\n",
       "      <td>1</td>\n",
       "    </tr>\n",
       "    <tr>\n",
       "      <th>1</th>\n",
       "      <td>Campaign 2</td>\n",
       "      <td>14000000.0</td>\n",
       "      <td>2</td>\n",
       "    </tr>\n",
       "    <tr>\n",
       "      <th>2</th>\n",
       "      <td>Campaign 3</td>\n",
       "      <td>23000000.0</td>\n",
       "      <td>3</td>\n",
       "    </tr>\n",
       "    <tr>\n",
       "      <th>3</th>\n",
       "      <td>Campaign 4</td>\n",
       "      <td>35000000.0</td>\n",
       "      <td>4</td>\n",
       "    </tr>\n",
       "    <tr>\n",
       "      <th>4</th>\n",
       "      <td>Campaign 5</td>\n",
       "      <td>36000000.0</td>\n",
       "      <td>5</td>\n",
       "    </tr>\n",
       "    <tr>\n",
       "      <th>5</th>\n",
       "      <td>Campaign 6</td>\n",
       "      <td>30000000.0</td>\n",
       "      <td>6</td>\n",
       "    </tr>\n",
       "    <tr>\n",
       "      <th>6</th>\n",
       "      <td>Campaign 7</td>\n",
       "      <td>37000000.0</td>\n",
       "      <td>7</td>\n",
       "    </tr>\n",
       "  </tbody>\n",
       "</table>\n",
       "</div>"
      ],
      "text/plain": [
       "         name      budget  tgl_transaksi\n",
       "0  Campaign 1  10000000.0              1\n",
       "1  Campaign 2  14000000.0              2\n",
       "2  Campaign 3  23000000.0              3\n",
       "3  Campaign 4  35000000.0              4\n",
       "4  Campaign 5  36000000.0              5\n",
       "5  Campaign 6  30000000.0              6\n",
       "6  Campaign 7  37000000.0              7"
      ]
     },
     "execution_count": 223,
     "metadata": {},
     "output_type": "execute_result"
    }
   ],
   "source": [
    "df_campaign"
   ]
  },
  {
   "cell_type": "code",
   "execution_count": 225,
   "metadata": {},
   "outputs": [
    {
     "data": {
      "text/html": [
       "<div>\n",
       "<style scoped>\n",
       "    .dataframe tbody tr th:only-of-type {\n",
       "        vertical-align: middle;\n",
       "    }\n",
       "\n",
       "    .dataframe tbody tr th {\n",
       "        vertical-align: top;\n",
       "    }\n",
       "\n",
       "    .dataframe thead th {\n",
       "        text-align: right;\n",
       "    }\n",
       "</style>\n",
       "<table border=\"1\" class=\"dataframe\">\n",
       "  <thead>\n",
       "    <tr style=\"text-align: right;\">\n",
       "      <th></th>\n",
       "      <th>tgl_transaksi</th>\n",
       "      <th>harga_asli</th>\n",
       "      <th>name</th>\n",
       "      <th>budget</th>\n",
       "    </tr>\n",
       "  </thead>\n",
       "  <tbody>\n",
       "    <tr>\n",
       "      <th>0</th>\n",
       "      <td>1</td>\n",
       "      <td>219572528.0</td>\n",
       "      <td>Campaign 1</td>\n",
       "      <td>10000000.0</td>\n",
       "    </tr>\n",
       "    <tr>\n",
       "      <th>1</th>\n",
       "      <td>2</td>\n",
       "      <td>223743184.0</td>\n",
       "      <td>Campaign 2</td>\n",
       "      <td>14000000.0</td>\n",
       "    </tr>\n",
       "    <tr>\n",
       "      <th>2</th>\n",
       "      <td>3</td>\n",
       "      <td>637520481.0</td>\n",
       "      <td>Campaign 3</td>\n",
       "      <td>23000000.0</td>\n",
       "    </tr>\n",
       "    <tr>\n",
       "      <th>3</th>\n",
       "      <td>4</td>\n",
       "      <td>551497045.0</td>\n",
       "      <td>Campaign 4</td>\n",
       "      <td>35000000.0</td>\n",
       "    </tr>\n",
       "    <tr>\n",
       "      <th>4</th>\n",
       "      <td>5</td>\n",
       "      <td>304320950.0</td>\n",
       "      <td>Campaign 5</td>\n",
       "      <td>36000000.0</td>\n",
       "    </tr>\n",
       "    <tr>\n",
       "      <th>5</th>\n",
       "      <td>6</td>\n",
       "      <td>499072660.0</td>\n",
       "      <td>Campaign 6</td>\n",
       "      <td>30000000.0</td>\n",
       "    </tr>\n",
       "    <tr>\n",
       "      <th>6</th>\n",
       "      <td>7</td>\n",
       "      <td>264506348.0</td>\n",
       "      <td>Campaign 7</td>\n",
       "      <td>37000000.0</td>\n",
       "    </tr>\n",
       "    <tr>\n",
       "      <th>7</th>\n",
       "      <td>10</td>\n",
       "      <td>80357200.0</td>\n",
       "      <td>NaN</td>\n",
       "      <td>NaN</td>\n",
       "    </tr>\n",
       "    <tr>\n",
       "      <th>8</th>\n",
       "      <td>11</td>\n",
       "      <td>57056993.0</td>\n",
       "      <td>NaN</td>\n",
       "      <td>NaN</td>\n",
       "    </tr>\n",
       "    <tr>\n",
       "      <th>9</th>\n",
       "      <td>12</td>\n",
       "      <td>190255555.0</td>\n",
       "      <td>NaN</td>\n",
       "      <td>NaN</td>\n",
       "    </tr>\n",
       "  </tbody>\n",
       "</table>\n",
       "</div>"
      ],
      "text/plain": [
       "   tgl_transaksi   harga_asli        name      budget\n",
       "0              1  219572528.0  Campaign 1  10000000.0\n",
       "1              2  223743184.0  Campaign 2  14000000.0\n",
       "2              3  637520481.0  Campaign 3  23000000.0\n",
       "3              4  551497045.0  Campaign 4  35000000.0\n",
       "4              5  304320950.0  Campaign 5  36000000.0\n",
       "5              6  499072660.0  Campaign 6  30000000.0\n",
       "6              7  264506348.0  Campaign 7  37000000.0\n",
       "7             10   80357200.0         NaN         NaN\n",
       "8             11   57056993.0         NaN         NaN\n",
       "9             12  190255555.0         NaN         NaN"
      ]
     },
     "execution_count": 225,
     "metadata": {},
     "output_type": "execute_result"
    }
   ],
   "source": [
    "# merge table total pendapatan perbulan dengan table campaign\n",
    "df_total_pendapatan_bulan = pd.merge(df_total_pendapatan_bulan, \n",
    "                                        df_campaign, \n",
    "                                        on='tgl_transaksi', \n",
    "                                        how='left')\n",
    "df_total_pendapatan_bulan"
   ]
  },
  {
   "cell_type": "code",
   "execution_count": 239,
   "metadata": {},
   "outputs": [
    {
     "data": {
      "text/plain": [
       "Text(0, 0.5, 'total_dana')"
      ]
     },
     "execution_count": 239,
     "metadata": {},
     "output_type": "execute_result"
    },
    {
     "data": {
      "image/png": "[encoded data removed]",
      "text/plain": [
       "<Figure size 864x432 with 1 Axes>"
      ]
     },
     "metadata": {
      "needs_background": "light"
     },
     "output_type": "display_data"
    }
   ],
   "source": [
    "# ukuran chart\n",
    "plt.figure(figsize=(12,6))\n",
    "\n",
    "# pendapatan perusahaan dalam line chart\n",
    "sns.lineplot(data=df_total_pendapatan_bulan.harga_asli,\n",
    "            label='pendapatan_perusahaan'\n",
    "            )\n",
    "\n",
    "# budget promosi perusahaan dalam line chart\n",
    "sns.lineplot(data=df_total_pendapatan_bulan.budget,\n",
    "            label='budget_promosi'\n",
    "            )\n",
    "\n",
    "plt.title('Line Chart Pendapatan Perusahaan dan Budget Promosi di Tahun 2021')\n",
    "plt.ylabel('total_dana')"
   ]
  },
  {
   "cell_type": "markdown",
   "metadata": {},
   "source": [
    "### KESIMPULAN\n",
    "Dari hasil analysis diatas bisa ditarik kesimpulan bahwa promosi yang dilakukan oleh perusahaan memberikan dampak positif ke total transaksi dan total pendapatan. Sehingga keuntungan yang didapatkan oleh perusahaan melebihi 2,000% saat melakukan promosi."
   ]
  }
 ],
 "metadata": {
  "kernelspec": {
   "display_name": "Python 3 (ipykernel)",
   "language": "python",
   "name": "python3"
  },
  "language_info": {
   "codemirror_mode": {
    "name": "ipython",
    "version": 3
   },
   "file_extension": ".py",
   "mimetype": "text/x-python",
   "name": "python",
   "nbconvert_exporter": "python",
   "pygments_lexer": "ipython3",
   "version": "3.9.12"
  },
  "vscode": {
   "interpreter": {
    "hash": "7679c2132d3f6ce38c9df14d554b39c06862b36a4e6689c81f9ae15bd0911d7d"
   }
  }
 },
 "nbformat": 4,
 "nbformat_minor": 2
}
